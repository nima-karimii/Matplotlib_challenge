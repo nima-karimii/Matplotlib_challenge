{
 "cells": [
  {
   "cell_type": "markdown",
   "metadata": {},
   "source": [
    "## Observations and Insights "
   ]
  },
  {
   "cell_type": "code",
   "execution_count": 1,
   "metadata": {},
   "outputs": [],
   "source": [
    "#Dependencies and Setup\n",
    "import matplotlib.pyplot as plt\n",
    "import pandas as pd\n",
    "import scipy.stats as st\n",
    "import numpy as np\n",
    "import random as rand\n",
    "from scipy.stats import linregress\n",
    "from colorama import Fore, Back, Style "
   ]
  },
  {
   "cell_type": "code",
   "execution_count": 2,
   "metadata": {},
   "outputs": [
    {
     "data": {
      "text/html": [
       "<div>\n",
       "<style scoped>\n",
       "    .dataframe tbody tr th:only-of-type {\n",
       "        vertical-align: middle;\n",
       "    }\n",
       "\n",
       "    .dataframe tbody tr th {\n",
       "        vertical-align: top;\n",
       "    }\n",
       "\n",
       "    .dataframe thead th {\n",
       "        text-align: right;\n",
       "    }\n",
       "</style>\n",
       "<table border=\"1\" class=\"dataframe\">\n",
       "  <thead>\n",
       "    <tr style=\"text-align: right;\">\n",
       "      <th></th>\n",
       "      <th>Mouse ID</th>\n",
       "      <th>Drug Regimen</th>\n",
       "      <th>Sex</th>\n",
       "      <th>Age_months</th>\n",
       "      <th>Weight (g)</th>\n",
       "      <th>Timepoint</th>\n",
       "      <th>Tumor Volume (mm3)</th>\n",
       "      <th>Metastatic Sites</th>\n",
       "    </tr>\n",
       "  </thead>\n",
       "  <tbody>\n",
       "    <tr>\n",
       "      <th>0</th>\n",
       "      <td>k403</td>\n",
       "      <td>Ramicane</td>\n",
       "      <td>Male</td>\n",
       "      <td>21</td>\n",
       "      <td>16</td>\n",
       "      <td>0</td>\n",
       "      <td>45.000000</td>\n",
       "      <td>0</td>\n",
       "    </tr>\n",
       "    <tr>\n",
       "      <th>1</th>\n",
       "      <td>k403</td>\n",
       "      <td>Ramicane</td>\n",
       "      <td>Male</td>\n",
       "      <td>21</td>\n",
       "      <td>16</td>\n",
       "      <td>5</td>\n",
       "      <td>38.825898</td>\n",
       "      <td>0</td>\n",
       "    </tr>\n",
       "    <tr>\n",
       "      <th>2</th>\n",
       "      <td>k403</td>\n",
       "      <td>Ramicane</td>\n",
       "      <td>Male</td>\n",
       "      <td>21</td>\n",
       "      <td>16</td>\n",
       "      <td>10</td>\n",
       "      <td>35.014271</td>\n",
       "      <td>1</td>\n",
       "    </tr>\n",
       "    <tr>\n",
       "      <th>3</th>\n",
       "      <td>k403</td>\n",
       "      <td>Ramicane</td>\n",
       "      <td>Male</td>\n",
       "      <td>21</td>\n",
       "      <td>16</td>\n",
       "      <td>15</td>\n",
       "      <td>34.223992</td>\n",
       "      <td>1</td>\n",
       "    </tr>\n",
       "    <tr>\n",
       "      <th>4</th>\n",
       "      <td>k403</td>\n",
       "      <td>Ramicane</td>\n",
       "      <td>Male</td>\n",
       "      <td>21</td>\n",
       "      <td>16</td>\n",
       "      <td>20</td>\n",
       "      <td>32.997729</td>\n",
       "      <td>1</td>\n",
       "    </tr>\n",
       "    <tr>\n",
       "      <th>...</th>\n",
       "      <td>...</td>\n",
       "      <td>...</td>\n",
       "      <td>...</td>\n",
       "      <td>...</td>\n",
       "      <td>...</td>\n",
       "      <td>...</td>\n",
       "      <td>...</td>\n",
       "      <td>...</td>\n",
       "    </tr>\n",
       "    <tr>\n",
       "      <th>1888</th>\n",
       "      <td>z969</td>\n",
       "      <td>Naftisol</td>\n",
       "      <td>Male</td>\n",
       "      <td>9</td>\n",
       "      <td>30</td>\n",
       "      <td>25</td>\n",
       "      <td>63.145652</td>\n",
       "      <td>2</td>\n",
       "    </tr>\n",
       "    <tr>\n",
       "      <th>1889</th>\n",
       "      <td>z969</td>\n",
       "      <td>Naftisol</td>\n",
       "      <td>Male</td>\n",
       "      <td>9</td>\n",
       "      <td>30</td>\n",
       "      <td>30</td>\n",
       "      <td>65.841013</td>\n",
       "      <td>3</td>\n",
       "    </tr>\n",
       "    <tr>\n",
       "      <th>1890</th>\n",
       "      <td>z969</td>\n",
       "      <td>Naftisol</td>\n",
       "      <td>Male</td>\n",
       "      <td>9</td>\n",
       "      <td>30</td>\n",
       "      <td>35</td>\n",
       "      <td>69.176246</td>\n",
       "      <td>4</td>\n",
       "    </tr>\n",
       "    <tr>\n",
       "      <th>1891</th>\n",
       "      <td>z969</td>\n",
       "      <td>Naftisol</td>\n",
       "      <td>Male</td>\n",
       "      <td>9</td>\n",
       "      <td>30</td>\n",
       "      <td>40</td>\n",
       "      <td>70.314904</td>\n",
       "      <td>4</td>\n",
       "    </tr>\n",
       "    <tr>\n",
       "      <th>1892</th>\n",
       "      <td>z969</td>\n",
       "      <td>Naftisol</td>\n",
       "      <td>Male</td>\n",
       "      <td>9</td>\n",
       "      <td>30</td>\n",
       "      <td>45</td>\n",
       "      <td>73.867845</td>\n",
       "      <td>4</td>\n",
       "    </tr>\n",
       "  </tbody>\n",
       "</table>\n",
       "<p>1893 rows × 8 columns</p>\n",
       "</div>"
      ],
      "text/plain": [
       "     Mouse ID Drug Regimen   Sex  Age_months  Weight (g)  Timepoint  \\\n",
       "0        k403     Ramicane  Male          21          16          0   \n",
       "1        k403     Ramicane  Male          21          16          5   \n",
       "2        k403     Ramicane  Male          21          16         10   \n",
       "3        k403     Ramicane  Male          21          16         15   \n",
       "4        k403     Ramicane  Male          21          16         20   \n",
       "...       ...          ...   ...         ...         ...        ...   \n",
       "1888     z969     Naftisol  Male           9          30         25   \n",
       "1889     z969     Naftisol  Male           9          30         30   \n",
       "1890     z969     Naftisol  Male           9          30         35   \n",
       "1891     z969     Naftisol  Male           9          30         40   \n",
       "1892     z969     Naftisol  Male           9          30         45   \n",
       "\n",
       "      Tumor Volume (mm3)  Metastatic Sites  \n",
       "0              45.000000                 0  \n",
       "1              38.825898                 0  \n",
       "2              35.014271                 1  \n",
       "3              34.223992                 1  \n",
       "4              32.997729                 1  \n",
       "...                  ...               ...  \n",
       "1888           63.145652                 2  \n",
       "1889           65.841013                 3  \n",
       "1890           69.176246                 4  \n",
       "1891           70.314904                 4  \n",
       "1892           73.867845                 4  \n",
       "\n",
       "[1893 rows x 8 columns]"
      ]
     },
     "execution_count": 2,
     "metadata": {},
     "output_type": "execute_result"
    }
   ],
   "source": [
    "# Study data files\n",
    "mouse_metadata_path = \"data/Mouse_metadata.csv\"\n",
    "study_results_path = \"data/Study_results.csv\"\n",
    "\n",
    "# Read the mouse data and the study results\n",
    "mouse_metadata = pd.read_csv(mouse_metadata_path)\n",
    "study_results = pd.read_csv(study_results_path)\n",
    "\n",
    "# Combine the data into a single dataset\n",
    "Main_data_df=pd.merge(mouse_metadata,study_results,on = 'Mouse ID' , how =\"outer\")\n",
    "# Display the data table for preview\n",
    "\n",
    "Main_data_df"
   ]
  },
  {
   "cell_type": "code",
   "execution_count": 3,
   "metadata": {},
   "outputs": [
    {
     "name": "stdout",
     "output_type": "stream",
     "text": [
      "\n",
      "The number of unique mice participating in these treatmets is : \u001b[31m249 Mice\n",
      "\n"
     ]
    }
   ],
   "source": [
    "# Checking the number of mice.\n",
    "print(f\"\\nThe number of unique mice participating in these treatmets is : {Fore.RED}{len(Main_data_df['Mouse ID'].unique())} Mice\\n\")"
   ]
  },
  {
   "cell_type": "code",
   "execution_count": 4,
   "metadata": {},
   "outputs": [
    {
     "name": "stdout",
     "output_type": "stream",
     "text": [
      "\n",
      "There is/are 1 duplicate mouse/mice in these treatmets :\u001b[31m\n",
      "['g989']\n",
      "\n",
      "\n"
     ]
    }
   ],
   "source": [
    "# Getting the duplicate mice by ID number that shows up for Mouse ID and Timepoint. \n",
    "\n",
    "#Sorting Data on \"Mouse ID\", \"Timepoint\"\n",
    "Sorted_data=Main_data_df.sort_values([\"Mouse ID\", \"Timepoint\"])\n",
    "Sorted_data=Sorted_data.reset_index(drop=True)\n",
    "#Finding the Duplicated Mice data\n",
    "duplicated_mice=Sorted_data[Sorted_data.duplicated([\"Mouse ID\", \"Timepoint\"],keep=False)]\n",
    "#Finding the Duplicated Mice IDs\n",
    "duplicated_mice_ID=duplicated_mice.groupby(['Mouse ID'])['Mouse ID'].max()\n",
    "duplicated_ID=duplicated_mice_ID.values.tolist()\n",
    "#Printing the List of Duplicated Mice IDs\n",
    "print(f\"\\nThere is/are {len(duplicated_ID)} duplicate mouse/mice in these treatmets :{Fore.RED}\")\n",
    "print(duplicated_ID)\n",
    "print(\"\\n\")"
   ]
  },
  {
   "cell_type": "code",
   "execution_count": 5,
   "metadata": {},
   "outputs": [
    {
     "name": "stdout",
     "output_type": "stream",
     "text": [
      "\n",
      "\u001b[32mThe duplicate mouse/mice data in these treatmets :\u001b[31m\n",
      "    Mouse ID Drug Regimen  Tumor Volume (mm3)  Age_months  Timepoint\n",
      "586     g989     Propriva           45.000000          21          0\n",
      "587     g989     Propriva           45.000000          21          0\n",
      "588     g989     Propriva           48.786801          21          5\n",
      "589     g989     Propriva           47.570392          21          5\n",
      "590     g989     Propriva           51.745156          21         10\n",
      "591     g989     Propriva           49.880528          21         10\n",
      "592     g989     Propriva           51.325852          21         15\n",
      "593     g989     Propriva           53.442020          21         15\n",
      "594     g989     Propriva           55.326122          21         20\n",
      "595     g989     Propriva           54.657650          21         20\n"
     ]
    }
   ],
   "source": [
    "# Optional: Get all the data for the duplicate mouse ID. \n",
    "\n",
    "print(f\"\\n{Fore.GREEN}The duplicate mouse/mice data in these treatmets :{Fore.RED}\")\n",
    "#just printing usefull information fitting on the screen\n",
    "print(duplicated_mice.loc[:,['Mouse ID','Drug Regimen','Tumor Volume (mm3)','Age_months','Timepoint']])\n"
   ]
  },
  {
   "cell_type": "code",
   "execution_count": 6,
   "metadata": {},
   "outputs": [
    {
     "data": {
      "text/html": [
       "<div>\n",
       "<style scoped>\n",
       "    .dataframe tbody tr th:only-of-type {\n",
       "        vertical-align: middle;\n",
       "    }\n",
       "\n",
       "    .dataframe tbody tr th {\n",
       "        vertical-align: top;\n",
       "    }\n",
       "\n",
       "    .dataframe thead th {\n",
       "        text-align: right;\n",
       "    }\n",
       "</style>\n",
       "<table border=\"1\" class=\"dataframe\">\n",
       "  <thead>\n",
       "    <tr style=\"text-align: right;\">\n",
       "      <th></th>\n",
       "      <th>Mouse ID</th>\n",
       "      <th>Drug Regimen</th>\n",
       "      <th>Sex</th>\n",
       "      <th>Age_months</th>\n",
       "      <th>Weight (g)</th>\n",
       "      <th>Timepoint</th>\n",
       "      <th>Tumor Volume (mm3)</th>\n",
       "      <th>Metastatic Sites</th>\n",
       "    </tr>\n",
       "  </thead>\n",
       "  <tbody>\n",
       "    <tr>\n",
       "      <th>0</th>\n",
       "      <td>k403</td>\n",
       "      <td>Ramicane</td>\n",
       "      <td>Male</td>\n",
       "      <td>21</td>\n",
       "      <td>16</td>\n",
       "      <td>0</td>\n",
       "      <td>45.000000</td>\n",
       "      <td>0</td>\n",
       "    </tr>\n",
       "    <tr>\n",
       "      <th>1</th>\n",
       "      <td>k403</td>\n",
       "      <td>Ramicane</td>\n",
       "      <td>Male</td>\n",
       "      <td>21</td>\n",
       "      <td>16</td>\n",
       "      <td>5</td>\n",
       "      <td>38.825898</td>\n",
       "      <td>0</td>\n",
       "    </tr>\n",
       "    <tr>\n",
       "      <th>2</th>\n",
       "      <td>k403</td>\n",
       "      <td>Ramicane</td>\n",
       "      <td>Male</td>\n",
       "      <td>21</td>\n",
       "      <td>16</td>\n",
       "      <td>10</td>\n",
       "      <td>35.014271</td>\n",
       "      <td>1</td>\n",
       "    </tr>\n",
       "    <tr>\n",
       "      <th>3</th>\n",
       "      <td>k403</td>\n",
       "      <td>Ramicane</td>\n",
       "      <td>Male</td>\n",
       "      <td>21</td>\n",
       "      <td>16</td>\n",
       "      <td>15</td>\n",
       "      <td>34.223992</td>\n",
       "      <td>1</td>\n",
       "    </tr>\n",
       "    <tr>\n",
       "      <th>4</th>\n",
       "      <td>k403</td>\n",
       "      <td>Ramicane</td>\n",
       "      <td>Male</td>\n",
       "      <td>21</td>\n",
       "      <td>16</td>\n",
       "      <td>20</td>\n",
       "      <td>32.997729</td>\n",
       "      <td>1</td>\n",
       "    </tr>\n",
       "    <tr>\n",
       "      <th>...</th>\n",
       "      <td>...</td>\n",
       "      <td>...</td>\n",
       "      <td>...</td>\n",
       "      <td>...</td>\n",
       "      <td>...</td>\n",
       "      <td>...</td>\n",
       "      <td>...</td>\n",
       "      <td>...</td>\n",
       "    </tr>\n",
       "    <tr>\n",
       "      <th>1875</th>\n",
       "      <td>z969</td>\n",
       "      <td>Naftisol</td>\n",
       "      <td>Male</td>\n",
       "      <td>9</td>\n",
       "      <td>30</td>\n",
       "      <td>25</td>\n",
       "      <td>63.145652</td>\n",
       "      <td>2</td>\n",
       "    </tr>\n",
       "    <tr>\n",
       "      <th>1876</th>\n",
       "      <td>z969</td>\n",
       "      <td>Naftisol</td>\n",
       "      <td>Male</td>\n",
       "      <td>9</td>\n",
       "      <td>30</td>\n",
       "      <td>30</td>\n",
       "      <td>65.841013</td>\n",
       "      <td>3</td>\n",
       "    </tr>\n",
       "    <tr>\n",
       "      <th>1877</th>\n",
       "      <td>z969</td>\n",
       "      <td>Naftisol</td>\n",
       "      <td>Male</td>\n",
       "      <td>9</td>\n",
       "      <td>30</td>\n",
       "      <td>35</td>\n",
       "      <td>69.176246</td>\n",
       "      <td>4</td>\n",
       "    </tr>\n",
       "    <tr>\n",
       "      <th>1878</th>\n",
       "      <td>z969</td>\n",
       "      <td>Naftisol</td>\n",
       "      <td>Male</td>\n",
       "      <td>9</td>\n",
       "      <td>30</td>\n",
       "      <td>40</td>\n",
       "      <td>70.314904</td>\n",
       "      <td>4</td>\n",
       "    </tr>\n",
       "    <tr>\n",
       "      <th>1879</th>\n",
       "      <td>z969</td>\n",
       "      <td>Naftisol</td>\n",
       "      <td>Male</td>\n",
       "      <td>9</td>\n",
       "      <td>30</td>\n",
       "      <td>45</td>\n",
       "      <td>73.867845</td>\n",
       "      <td>4</td>\n",
       "    </tr>\n",
       "  </tbody>\n",
       "</table>\n",
       "<p>1880 rows × 8 columns</p>\n",
       "</div>"
      ],
      "text/plain": [
       "     Mouse ID Drug Regimen   Sex  Age_months  Weight (g)  Timepoint  \\\n",
       "0        k403     Ramicane  Male          21          16          0   \n",
       "1        k403     Ramicane  Male          21          16          5   \n",
       "2        k403     Ramicane  Male          21          16         10   \n",
       "3        k403     Ramicane  Male          21          16         15   \n",
       "4        k403     Ramicane  Male          21          16         20   \n",
       "...       ...          ...   ...         ...         ...        ...   \n",
       "1875     z969     Naftisol  Male           9          30         25   \n",
       "1876     z969     Naftisol  Male           9          30         30   \n",
       "1877     z969     Naftisol  Male           9          30         35   \n",
       "1878     z969     Naftisol  Male           9          30         40   \n",
       "1879     z969     Naftisol  Male           9          30         45   \n",
       "\n",
       "      Tumor Volume (mm3)  Metastatic Sites  \n",
       "0              45.000000                 0  \n",
       "1              38.825898                 0  \n",
       "2              35.014271                 1  \n",
       "3              34.223992                 1  \n",
       "4              32.997729                 1  \n",
       "...                  ...               ...  \n",
       "1875           63.145652                 2  \n",
       "1876           65.841013                 3  \n",
       "1877           69.176246                 4  \n",
       "1878           70.314904                 4  \n",
       "1879           73.867845                 4  \n",
       "\n",
       "[1880 rows x 8 columns]"
      ]
     },
     "execution_count": 6,
     "metadata": {},
     "output_type": "execute_result"
    }
   ],
   "source": [
    "# Create a clean DataFrame by dropping the duplicate mouse by its ID.\n",
    "#cleaning the joined Data by removing the duplicated mice\n",
    "Clean_main_data=Main_data_df.loc[~(Main_data_df[\"Mouse ID\"].isin(duplicated_ID) )]\n",
    "Clean_main_data=Clean_main_data.reset_index(drop=True)\n",
    "\n",
    "#cleaning the Mice metadata by removing the duplicated mice\n",
    "Clean_mouse_metadata = mouse_metadata.loc[~(mouse_metadata[\"Mouse ID\"].isin(duplicated_ID) )]\n",
    "mouse_metadata=mouse_metadata.reset_index(drop=True)\n",
    "\n",
    "#cleaning the Study_results data by removing the duplicated mice\n",
    "study_results =study_results.loc[~(study_results[\"Mouse ID\"].isin(duplicated_ID) )]\n",
    "study_results=study_results.reset_index(drop=True)\n",
    "\n",
    "\n",
    "Clean_main_data"
   ]
  },
  {
   "cell_type": "code",
   "execution_count": 7,
   "metadata": {},
   "outputs": [
    {
     "name": "stdout",
     "output_type": "stream",
     "text": [
      "\n",
      "The number of unique mouse is after removing the Duplicated info:  \u001b[31m248\n"
     ]
    }
   ],
   "source": [
    "# Checking the number of mice in the clean DataFrame.\n",
    "print(f\"\\nThe number of unique mouse is after removing the Duplicated info:  {Fore.RED}{len(Clean_main_data['Mouse ID'].unique())}\")"
   ]
  },
  {
   "cell_type": "markdown",
   "metadata": {},
   "source": [
    "## Summary Statistics"
   ]
  },
  {
   "cell_type": "code",
   "execution_count": 8,
   "metadata": {},
   "outputs": [
    {
     "name": "stdout",
     "output_type": "stream",
     "text": [
      "\n",
      "              \u001b[31mSummary Statistics\u001b[0m\n",
      "              Mean   Median  Variance   STD   SEM\n",
      "Drug Regimen                                     \n",
      "Capomulin     40.68   41.56     24.95  4.99  0.33\n",
      "Ceftamin      52.59   51.78     39.29  6.27  0.47\n",
      "Infubinol     52.88   51.82     43.13  6.57  0.49\n",
      "Ketapril      55.24   53.70     68.55  8.28  0.60\n",
      "Naftisol      54.33   52.51     66.17  8.13  0.60\n",
      "Placebo       54.03   52.29     61.17  7.82  0.58\n",
      "Propriva      52.32   50.45     43.85  6.62  0.54\n",
      "Ramicane      40.22   40.67     23.49  4.85  0.32\n",
      "Stelasyn      54.23   52.43     59.45  7.71  0.57\n",
      "Zoniferol     53.24   51.82     48.53  6.97  0.52\n"
     ]
    }
   ],
   "source": [
    "# Generate a summary statistics table of mean, median, variance, standard deviation, and SEM of the tumor volume for each regimen\n",
    "\n",
    "#Calculatig mean of the tumor volume for each regimen\n",
    "Summery_report_mean=pd.DataFrame(Clean_main_data.groupby(['Drug Regimen'])['Tumor Volume (mm3)'].mean().round(2))\n",
    "Summery_report_mean=Summery_report_mean.rename(columns={\"Tumor Volume (mm3)\":\"Mean \"})\n",
    "\n",
    "#Calculatig median of the tumor volume for each regimen\n",
    "Summery_report_median=pd.DataFrame(Clean_main_data.groupby(['Drug Regimen'])['Tumor Volume (mm3)'].median().round(2))\n",
    "Summery_report_median=Summery_report_median.rename(columns={\"Tumor Volume (mm3)\":\"Median\"})\n",
    "\n",
    "#Calculatig variance of the tumor volume for each regimen\n",
    "Summery_report_var=pd.DataFrame(Clean_main_data.groupby(['Drug Regimen'])['Tumor Volume (mm3)'].var().round(2))\n",
    "Summery_report_var=Summery_report_var.rename(columns={\"Tumor Volume (mm3)\":\"Variance\"})\n",
    "\n",
    "#Calculatig standard deviation of the tumor volume for each regimen\n",
    "Summery_report_std=pd.DataFrame(Clean_main_data.groupby(['Drug Regimen'])['Tumor Volume (mm3)'].std().round(2))\n",
    "Summery_report_std=Summery_report_std.rename(columns={\"Tumor Volume (mm3)\":\"STD\"})\n",
    "\n",
    "#Calculatig SEM of the tumor volume for each regimen\n",
    "Summery_report_sem=pd.DataFrame(Clean_main_data.groupby(['Drug Regimen'])['Tumor Volume (mm3)'].sem().round(2))\n",
    "Summery_report_sem=Summery_report_sem.rename(columns={\"Tumor Volume (mm3)\":\"SEM\"})\n",
    "\n",
    "# This method is the most straighforward, creating multiple series and putting them all together at the end.\n",
    "Summery_report=Summery_report_mean.merge(Summery_report_median.merge(Summery_report_var.merge(Summery_report_std.merge(Summery_report_sem,on='Drug Regimen'),on='Drug Regimen'),on='Drug Regimen'),on='Drug Regimen')\n",
    "print (f\"\\n              {Fore.RED}Summary Statistics{Style.RESET_ALL}\")\n",
    "print(Summery_report)"
   ]
  },
  {
   "cell_type": "markdown",
   "metadata": {},
   "source": [
    "--> This Summury shows \"Ramicane\" and \"Capomulin\" have the lowest average Tumor Volume throughout the study. The SEM values indicate that \"Ramicane\" and \"Capomulin\" have consistently low spread of values."
   ]
  },
  {
   "cell_type": "code",
   "execution_count": 9,
   "metadata": {},
   "outputs": [
    {
     "name": "stdout",
     "output_type": "stream",
     "text": [
      "\n",
      "              \u001b[31mSummary Statistics\u001b[0m\n",
      "  Drug Regimen Tumor Volume (mm3)                          \n",
      "                             mean median    var   std   sem\n",
      "0    Capomulin              40.68  41.56  24.95  4.99  0.33\n",
      "1     Ceftamin              52.59  51.78  39.29  6.27  0.47\n",
      "2    Infubinol              52.88  51.82  43.13  6.57  0.49\n",
      "3     Ketapril              55.24  53.70  68.55  8.28  0.60\n",
      "4     Naftisol              54.33  52.51  66.17  8.13  0.60\n",
      "5      Placebo              54.03  52.29  61.17  7.82  0.58\n",
      "6     Propriva              52.32  50.45  43.85  6.62  0.54\n",
      "7     Ramicane              40.22  40.67  23.49  4.85  0.32\n",
      "8     Stelasyn              54.23  52.43  59.45  7.71  0.57\n",
      "9    Zoniferol              53.24  51.82  48.53  6.97  0.52\n"
     ]
    }
   ],
   "source": [
    "# Generate a summary statistics table of mean, median, variance, standard deviation, and SEM of the tumor volume for each regimen\n",
    "# This method produces everything in a single groupby function\n",
    "\n",
    "# using agg function to calculate mean, median, variance, standard deviation, and SEM in a single groupby\n",
    "Summery_report2=Clean_main_data.groupby('Drug Regimen').agg({'Tumor Volume (mm3)':['mean','median','var','std','sem']}).reset_index().round(2)\n",
    "print (f\"\\n              {Fore.RED}Summary Statistics{Style.RESET_ALL}\")\n",
    "print(Summery_report2)"
   ]
  },
  {
   "cell_type": "markdown",
   "metadata": {},
   "source": [
    "## Bar and Pie Charts"
   ]
  },
  {
   "cell_type": "code",
   "execution_count": 10,
   "metadata": {},
   "outputs": [
    {
     "data": {
      "image/png": "[encoded data removed]",
      "text/plain": [
       "<Figure size 432x288 with 1 Axes>"
      ]
     },
     "metadata": {
      "needs_background": "light"
     },
     "output_type": "display_data"
    }
   ],
   "source": [
    "# Generate a bar plot showing the total number of mice for each treatment throughout the course of the study using pandas. \n",
    "\n",
    "#Selecting data for bar plot\n",
    "Mouse_Regimen=Clean_main_data[{'Drug Regimen','Mouse ID'}]\n",
    "#ouse_Regimen.head()\n",
    "\n",
    "#Calculating the number of mice for each treatmnt\n",
    "Mouse_Count=Mouse_Regimen.groupby('Drug Regimen')['Mouse ID'].count()\n",
    "\n",
    "#converting to DataFrame\n",
    "Mouse_Count_df=pd.DataFrame(Mouse_Count)\n",
    "\n",
    "#Plotting the bar chart on the Screen\n",
    "MiceperDrug_bar=plt.bar(Mouse_Count_df.index,Mouse_Count_df[\"Mouse ID\"], color='b',alpha=0.5,align='center')\n",
    "plt.title(\"total number of mice for each treatment\")\n",
    "plt.xlabel(\"treatment\")\n",
    "plt.xticks(rotation=45)\n",
    "plt.ylabel(\"Nmber of mice\")\n",
    "\n",
    "#Calculating the Aveage of mice count for displaying hline\n",
    "Avrage_mouse_count=Mouse_Count.mean()\n",
    "plt.hlines(Avrage_mouse_count,0,len(Mouse_Count),alpha=0.25)\n",
    "plt.text(-0.5, Avrage_mouse_count+10, f'Average({Avrage_mouse_count})', ha ='left', va ='center')\n",
    "\n",
    "plt.tight_layout()\n"
   ]
  },
  {
   "cell_type": "markdown",
   "metadata": {},
   "source": [
    "--> This Plot shows \"Capomulin\" and \"Ramicane\" had the highest totla number of subject for treatment . "
   ]
  },
  {
   "cell_type": "code",
   "execution_count": 11,
   "metadata": {},
   "outputs": [
    {
     "data": {
      "image/png": "[encoded data removed]",
      "text/plain": [
       "<Figure size 432x288 with 1 Axes>"
      ]
     },
     "metadata": {
      "needs_background": "light"
     },
     "output_type": "display_data"
    }
   ],
   "source": [
    "MiceperDrug_bar1=Mouse_Count.plot(kind='bar',color='b',alpha=0.5,align='center')\n",
    "plt.hlines(Avrage_mouse_count,0,len(Mouse_Count),alpha=0.25)\n",
    "plt.text(0, Avrage_mouse_count+10, f'Average({Avrage_mouse_count})', ha ='left', va ='center')\n",
    "plt.ylabel(\"Number of Mice\")\n",
    "plt.xlabel(\"treatment\")\n",
    "plt.title(\"total number of mice for each treatment\")\n",
    "plt.tight_layout()"
   ]
  },
  {
   "cell_type": "code",
   "execution_count": 12,
   "metadata": {},
   "outputs": [
    {
     "data": {
      "image/png": "[encoded data removed]",
      "text/plain": [
       "<Figure size 432x432 with 1 Axes>"
      ]
     },
     "metadata": {},
     "output_type": "display_data"
    }
   ],
   "source": [
    "# Generate a pie plot showing the distribution of female versus male mice using pandas\n",
    "\n",
    "#Selecting data for bar plot\n",
    "Mouse_Sex=Clean_main_data[{'Sex','Mouse ID'}]\n",
    "Mouse_Sex_data=Mouse_Sex.groupby('Sex')['Mouse ID'].nunique()\n",
    "\n",
    "Mouse_Sex_df=pd.DataFrame(Mouse_Sex_data)\n",
    "\n",
    "\n",
    "plt.figure(figsize=(6,6))\n",
    "Mouse_Sex_pie=plt.pie(Mouse_Sex_df['Mouse ID'],labels=Mouse_Sex_df.index, explode=(0,0.05) , autopct=\"%1.1f%%\",shadow=True, startangle=140 )\n",
    "plt.axis(\"equal\")\n",
    "plt.legend(loc='best')\n",
    "plt.title('distribution of female Vs male mice',c=\"r\")\n",
    "plt.tight_layout()\n",
    "#plt.savefig(\"pie.png\")\n",
    "plt.show()"
   ]
  },
  {
   "cell_type": "markdown",
   "metadata": {},
   "source": [
    "---> The plot shows the study used the both gender equaly for testing treatments "
   ]
  },
  {
   "cell_type": "code",
   "execution_count": 13,
   "metadata": {},
   "outputs": [
    {
     "data": {
      "image/png": "[encoded data removed]",
      "text/plain": [
       "<Figure size 432x432 with 1 Axes>"
      ]
     },
     "metadata": {},
     "output_type": "display_data"
    }
   ],
   "source": [
    "# Generate a pie plot showing the distribution of female versus male mice using pyplot\n",
    "plt.figure(figsize=(6,6))\n",
    "\n",
    "Mouse_Sex_pie1=Mouse_Sex_data.plot(kind='pie',y=Mouse_Sex_data.index,explode=(0,0.05) \n",
    "                                   , autopct=\"%1.1f%%\",shadow=True, startangle=140 ,title='distribution of female Vs male mice')\n",
    "plt.axis(\"equal\")\n",
    "plt.legend(loc='best')\n",
    "plt.tight_layout()\n",
    "plt.title('distribution of female Vs male mice',c=\"r\")\n",
    "plt.savefig(\"pie2.png\")\n",
    "plt.show()"
   ]
  },
  {
   "cell_type": "markdown",
   "metadata": {},
   "source": [
    "## Quartiles, Outliers and Boxplots\n"
   ]
  },
  {
   "cell_type": "code",
   "execution_count": 14,
   "metadata": {},
   "outputs": [
    {
     "data": {
      "text/html": [
       "<div>\n",
       "<style scoped>\n",
       "    .dataframe tbody tr th:only-of-type {\n",
       "        vertical-align: middle;\n",
       "    }\n",
       "\n",
       "    .dataframe tbody tr th {\n",
       "        vertical-align: top;\n",
       "    }\n",
       "\n",
       "    .dataframe thead th {\n",
       "        text-align: right;\n",
       "    }\n",
       "</style>\n",
       "<table border=\"1\" class=\"dataframe\">\n",
       "  <thead>\n",
       "    <tr style=\"text-align: right;\">\n",
       "      <th></th>\n",
       "      <th>Mouse ID</th>\n",
       "      <th>Drug Regimen</th>\n",
       "      <th>Sex</th>\n",
       "      <th>Age_months</th>\n",
       "      <th>Weight (g)</th>\n",
       "      <th>Tumor Volume (mm3)</th>\n",
       "      <th>Timepoint</th>\n",
       "    </tr>\n",
       "  </thead>\n",
       "  <tbody>\n",
       "    <tr>\n",
       "      <th>0</th>\n",
       "      <td>k403</td>\n",
       "      <td>Ramicane</td>\n",
       "      <td>Male</td>\n",
       "      <td>21</td>\n",
       "      <td>16</td>\n",
       "      <td>22.050126</td>\n",
       "      <td>45.0</td>\n",
       "    </tr>\n",
       "    <tr>\n",
       "      <th>1</th>\n",
       "      <td>s185</td>\n",
       "      <td>Capomulin</td>\n",
       "      <td>Female</td>\n",
       "      <td>3</td>\n",
       "      <td>17</td>\n",
       "      <td>23.343598</td>\n",
       "      <td>45.0</td>\n",
       "    </tr>\n",
       "    <tr>\n",
       "      <th>2</th>\n",
       "      <td>x401</td>\n",
       "      <td>Capomulin</td>\n",
       "      <td>Female</td>\n",
       "      <td>16</td>\n",
       "      <td>15</td>\n",
       "      <td>28.484033</td>\n",
       "      <td>45.0</td>\n",
       "    </tr>\n",
       "    <tr>\n",
       "      <th>3</th>\n",
       "      <td>m601</td>\n",
       "      <td>Capomulin</td>\n",
       "      <td>Male</td>\n",
       "      <td>22</td>\n",
       "      <td>17</td>\n",
       "      <td>28.430964</td>\n",
       "      <td>45.0</td>\n",
       "    </tr>\n",
       "    <tr>\n",
       "      <th>4</th>\n",
       "      <td>g791</td>\n",
       "      <td>Ramicane</td>\n",
       "      <td>Male</td>\n",
       "      <td>11</td>\n",
       "      <td>16</td>\n",
       "      <td>29.128472</td>\n",
       "      <td>45.0</td>\n",
       "    </tr>\n",
       "    <tr>\n",
       "      <th>...</th>\n",
       "      <td>...</td>\n",
       "      <td>...</td>\n",
       "      <td>...</td>\n",
       "      <td>...</td>\n",
       "      <td>...</td>\n",
       "      <td>...</td>\n",
       "      <td>...</td>\n",
       "    </tr>\n",
       "    <tr>\n",
       "      <th>244</th>\n",
       "      <td>z314</td>\n",
       "      <td>Stelasyn</td>\n",
       "      <td>Female</td>\n",
       "      <td>21</td>\n",
       "      <td>28</td>\n",
       "      <td>45.934712</td>\n",
       "      <td>5.0</td>\n",
       "    </tr>\n",
       "    <tr>\n",
       "      <th>245</th>\n",
       "      <td>z435</td>\n",
       "      <td>Propriva</td>\n",
       "      <td>Female</td>\n",
       "      <td>12</td>\n",
       "      <td>26</td>\n",
       "      <td>48.710661</td>\n",
       "      <td>10.0</td>\n",
       "    </tr>\n",
       "    <tr>\n",
       "      <th>246</th>\n",
       "      <td>z581</td>\n",
       "      <td>Infubinol</td>\n",
       "      <td>Female</td>\n",
       "      <td>24</td>\n",
       "      <td>25</td>\n",
       "      <td>62.754451</td>\n",
       "      <td>45.0</td>\n",
       "    </tr>\n",
       "    <tr>\n",
       "      <th>247</th>\n",
       "      <td>z795</td>\n",
       "      <td>Naftisol</td>\n",
       "      <td>Female</td>\n",
       "      <td>13</td>\n",
       "      <td>29</td>\n",
       "      <td>65.741070</td>\n",
       "      <td>45.0</td>\n",
       "    </tr>\n",
       "    <tr>\n",
       "      <th>248</th>\n",
       "      <td>z969</td>\n",
       "      <td>Naftisol</td>\n",
       "      <td>Male</td>\n",
       "      <td>9</td>\n",
       "      <td>30</td>\n",
       "      <td>73.867845</td>\n",
       "      <td>45.0</td>\n",
       "    </tr>\n",
       "  </tbody>\n",
       "</table>\n",
       "<p>249 rows × 7 columns</p>\n",
       "</div>"
      ],
      "text/plain": [
       "    Mouse ID Drug Regimen     Sex  Age_months  Weight (g)  Tumor Volume (mm3)  \\\n",
       "0       k403     Ramicane    Male          21          16           22.050126   \n",
       "1       s185    Capomulin  Female           3          17           23.343598   \n",
       "2       x401    Capomulin  Female          16          15           28.484033   \n",
       "3       m601    Capomulin    Male          22          17           28.430964   \n",
       "4       g791     Ramicane    Male          11          16           29.128472   \n",
       "..       ...          ...     ...         ...         ...                 ...   \n",
       "244     z314     Stelasyn  Female          21          28           45.934712   \n",
       "245     z435     Propriva  Female          12          26           48.710661   \n",
       "246     z581    Infubinol  Female          24          25           62.754451   \n",
       "247     z795     Naftisol  Female          13          29           65.741070   \n",
       "248     z969     Naftisol    Male           9          30           73.867845   \n",
       "\n",
       "     Timepoint  \n",
       "0         45.0  \n",
       "1         45.0  \n",
       "2         45.0  \n",
       "3         45.0  \n",
       "4         45.0  \n",
       "..         ...  \n",
       "244        5.0  \n",
       "245       10.0  \n",
       "246       45.0  \n",
       "247       45.0  \n",
       "248       45.0  \n",
       "\n",
       "[249 rows x 7 columns]"
      ]
     },
     "execution_count": 14,
     "metadata": {},
     "output_type": "execute_result"
    }
   ],
   "source": [
    "# Calculate the final tumor volume of each mouse across four of the treatment regimens:  \n",
    "# Capomulin, Ramicane, Infubinol, and Ceftamin\n",
    "Selected_data=Clean_main_data[{'Drug Regimen','Mouse ID','Timepoint','Tumor Volume (mm3)'}]\n",
    "Selected_data=Selected_data.copy()\n",
    "\n",
    "#Sorted_Selected_data=Selected_data.sort_values([\"Drug Regimen\",\"Mouse ID\", \"Timepoint\"])\n",
    "Sorted_groupedby=Selected_data.groupby([\"Drug Regimen\",\"Mouse ID\"]).last()\n",
    "\n",
    "#Sorted_groupedby\n",
    "\n",
    "# Merge this group df with the original dataframe to get the tumor volume at the last timepoint\n",
    "Main_mouse_df=pd.merge(mouse_metadata,Sorted_groupedby,on = ['Mouse ID','Drug Regimen'], how =\"outer\")\n",
    "\n",
    "Main_mouse_df\n"
   ]
  },
  {
   "cell_type": "code",
   "execution_count": 15,
   "metadata": {},
   "outputs": [
    {
     "name": "stdout",
     "output_type": "stream",
     "text": [
      "Capomulin:\n",
      "The lower quartile of the Last Tumor Volume for Capomulin Treatment is: \u001b[34m     32.38 \u001b[0m\n",
      "The upper quartile of the Last Tumor Volume for Capomulin Treatment is: \u001b[34m     40.16  \u001b[0m\n",
      "The interquartile range of the Last Tumor Volume for Capomulin Treatment is:\u001b[34m 7.78   \u001b[0m\n",
      "The the median of the Last Tumor Volume for Capomulin Treatment is:          \u001b[34m38.13 \u001b[0m\n",
      "Values below ' 20.71 ' for Capomulin Treatment could be outliers.\n",
      "Values above ' 51.83 ' for Capomulin Treatment could be outliers.\n",
      "\n",
      "\u001b[32mThere is no outliers in Capomulin Treatment : \n",
      "\n",
      "\u001b[0m\n",
      "Ramicane:\n",
      "The lower quartile of the Last Tumor Volume for Ramicane Treatment is: \u001b[34m     31.56 \u001b[0m\n",
      "The upper quartile of the Last Tumor Volume for Ramicane Treatment is: \u001b[34m     40.66  \u001b[0m\n",
      "The interquartile range of the Last Tumor Volume for Ramicane Treatment is:\u001b[34m 9.1   \u001b[0m\n",
      "The the median of the Last Tumor Volume for Ramicane Treatment is:          \u001b[34m36.56 \u001b[0m\n",
      "Values below ' 17.91 ' for Ramicane Treatment could be outliers.\n",
      "Values above ' 54.31 ' for Ramicane Treatment could be outliers.\n",
      "\n",
      "\u001b[32mThere is no outliers in Ramicane Treatment : \n",
      "\n",
      "\u001b[0m\n",
      "Infubinol:\n",
      "The lower quartile of the Last Tumor Volume for Infubinol Treatment is: \u001b[34m     54.05 \u001b[0m\n",
      "The upper quartile of the Last Tumor Volume for Infubinol Treatment is: \u001b[34m     65.53  \u001b[0m\n",
      "The interquartile range of the Last Tumor Volume for Infubinol Treatment is:\u001b[34m 11.48   \u001b[0m\n",
      "The the median of the Last Tumor Volume for Infubinol Treatment is:          \u001b[34m60.17 \u001b[0m\n",
      "Values below ' 36.83 ' for Infubinol Treatment could be outliers.\n",
      "Values above ' 82.75 ' for Infubinol Treatment could be outliers.\n",
      "\n",
      "\u001b[31mThese mice could be the outliers of the Infubinol Treatment : \n",
      "   Mouse ID Drug Regimen  Tumor Volume (mm3)  Age_months  Timepoint\n",
      "74     c326    Infubinol           36.321346          18        5.0\n",
      "\n",
      "\u001b[0m\n",
      "Ceftamin:\n",
      "The lower quartile of the Last Tumor Volume for Ceftamin Treatment is: \u001b[34m     48.72 \u001b[0m\n",
      "The upper quartile of the Last Tumor Volume for Ceftamin Treatment is: \u001b[34m     64.3  \u001b[0m\n",
      "The interquartile range of the Last Tumor Volume for Ceftamin Treatment is:\u001b[34m 15.58   \u001b[0m\n",
      "The the median of the Last Tumor Volume for Ceftamin Treatment is:          \u001b[34m59.85 \u001b[0m\n",
      "Values below ' 25.35 ' for Ceftamin Treatment could be outliers.\n",
      "Values above ' 87.67 ' for Ceftamin Treatment could be outliers.\n",
      "\n",
      "\u001b[32mThere is no outliers in Ceftamin Treatment : \n",
      "\n",
      "\u001b[0m\n"
     ]
    }
   ],
   "source": [
    "# Put treatments into a list for for loop (and later for plot labels)\n",
    "List_Treatment=['Capomulin','Ramicane','Infubinol','Ceftamin']\n",
    "\n",
    "# Create empty list to fill with tumor vol data (for plotting)\n",
    "tumor_data=[]\n",
    "Outliers=[]\n",
    "# Calculate the IQR and quantitatively determine if there are any potential outliers. \n",
    "    \n",
    "\n",
    "for List in List_Treatment:\n",
    "    \n",
    "    # Locate the rows which contain mice on each drug and get the tumor volumes\n",
    "    Last_Treatment = Main_mouse_df.loc[Main_mouse_df['Drug Regimen']==List,'Tumor Volume (mm3)',]\n",
    "    # add subset\n",
    "    tumor_data.append(Last_Treatment)\n",
    " \n",
    "    #Calculating IQR and quantitatively determine\n",
    "    \n",
    "    quartiles = round(Last_Treatment.quantile([.25,.5,.75]),2)\n",
    "    lowerq = quartiles[0.25]\n",
    "    upperq = quartiles[0.75]\n",
    "    iqr = round(upperq-lowerq,2)\n",
    "    \n",
    "    print(List+\":\")\n",
    "    print(f\"The lower quartile of the Last Tumor Volume for {List} Treatment is: {Fore.BLUE}     {lowerq} {Style.RESET_ALL}\")\n",
    "    print(f\"The upper quartile of the Last Tumor Volume for {List} Treatment is: {Fore.BLUE}     {upperq}  {Style.RESET_ALL}\")\n",
    "    print(f\"The interquartile range of the Last Tumor Volume for {List} Treatment is:{Fore.BLUE} {iqr}   {Style.RESET_ALL}\")\n",
    "    print(f\"The the median of the Last Tumor Volume for {List} Treatment is:          {Fore.BLUE}{quartiles[0.5]} {Style.RESET_ALL}\")\n",
    "    # Determine outliers using upper and lower bounds\n",
    "\n",
    "    lower_bound = round(lowerq - (1.5*iqr),2)\n",
    "    upper_bound = round(upperq + (1.5*iqr),2)\n",
    "    print(f\"Values below ' {lower_bound} ' for {List} Treatment could be outliers.\")\n",
    "    print(f\"Values above ' {upper_bound} ' for {List} Treatment could be outliers.\\n\") \n",
    "    \n",
    "    Outliers = Main_mouse_df.loc[(Main_mouse_df['Drug Regimen']==List)&((lower_bound>Main_mouse_df['Tumor Volume (mm3)'])|(Main_mouse_df['Tumor Volume (mm3)']>upper_bound)),:]\n",
    "#     Outliers.append(Outliers)\n",
    "    if len(Outliers)>0 :\n",
    "        print(f\"{Fore.RED}These mice could be the outliers of the {List} Treatment : \")\n",
    "        print(Outliers.loc[:,['Mouse ID','Drug Regimen','Tumor Volume (mm3)','Age_months','Timepoint']])\n",
    "        print(f\"\\n{Style.RESET_ALL}\")\n",
    "    else:\n",
    "        print(f\"{Fore.GREEN}There is no outliers in {List} Treatment : \")\n",
    "        print(f\"\\n{Style.RESET_ALL}\")\n",
    "\n",
    "\n",
    "    \n",
    "        \n",
    "        #print(f\"Mouse ID {Outliers['Mouse ID']} with the Last Tumor Volumeof {Outliers['Tumor Volume (mm3)']}\\n\")\n",
    "\n",
    "\n",
    "\n",
    "    "
   ]
  },
  {
   "cell_type": "markdown",
   "metadata": {},
   "source": [
    "---> The mouse number \"c326\" in Infubionl treatment could be outliers!"
   ]
  },
  {
   "cell_type": "code",
   "execution_count": 16,
   "metadata": {},
   "outputs": [
    {
     "data": {
      "image/png": "[encoded data removed]",
      "text/plain": [
       "<Figure size 432x288 with 1 Axes>"
      ]
     },
     "metadata": {
      "needs_background": "light"
     },
     "output_type": "display_data"
    }
   ],
   "source": [
    "# Generate a box plot of the final tumor volume of each mouse across four regimens of interest\n",
    "tumor_data\n",
    "fig,ax1=plt.subplots()\n",
    "ax1.boxplot(tumor_data, labels=List_Treatment,patch_artist = True)\n",
    "#plt.axis(\"equal\")\n",
    "#plt.legend(loc='best')\n",
    "plt.tight_layout()\n",
    "plt.title('Final tumor volume BOXPLOT chart',c=\"r\")\n",
    "#plt.savefig(\"pie2.png\")\n",
    "plt.ylabel(\"final tumor volume mmg\")\n",
    "plt.xlabel(\"treatment\")\n",
    "\n",
    "plt.show()\n",
    "\n",
    "\n",
    "plt.show()"
   ]
  },
  {
   "cell_type": "markdown",
   "metadata": {},
   "source": [
    "---> The Boxplot easily shows there is one outlier in Infubinol Treatment and also the avrage of Infubinil and Ceftamin are surprisly higher than the Capmulin and Ramicane !"
   ]
  },
  {
   "cell_type": "markdown",
   "metadata": {},
   "source": [
    "## Line and Scatter Plots"
   ]
  },
  {
   "cell_type": "code",
   "execution_count": 17,
   "metadata": {},
   "outputs": [
    {
     "data": {
      "image/png": "[encoded data removed]",
      "text/plain": [
       "<Figure size 432x288 with 1 Axes>"
      ]
     },
     "metadata": {
      "needs_background": "light"
     },
     "output_type": "display_data"
    }
   ],
   "source": [
    "# Generate a line plot of time point versus tumor volume for a mouse treated with Capomulin\n",
    "\n",
    "#Colecting the data of Capomulin treatment\n",
    "Capomulin_Treatment = Clean_main_data.loc[Clean_main_data['Drug Regimen']=='Capomulin',:,]\n",
    "Capomulin_Treatment=Capomulin_Treatment.copy()\n",
    "#Capomulin_Treatment\n",
    "\n",
    "#Seting a new index for Capomulin dara\n",
    "Capomulin_Treatment=Capomulin_Treatment.reset_index()\n",
    "\n",
    "#Selecting a random Mouse for line plot\n",
    "Random_mouse= rand.choice(Capomulin_Treatment['Mouse ID'])\n",
    "#Random_mouse\n",
    "\n",
    "#Selecting the random Mouse data for line plot\n",
    "Random_mouse_data = Capomulin_Treatment.loc[Capomulin_Treatment['Mouse ID']==Random_mouse,:,]\n",
    "#Random_mouse_data\n",
    "\n",
    "#Creating a line plot of time point versus tumor volume for the random Mouse treated with Capomulin \n",
    "Random_mouse_data.plot(x ='Timepoint', y='Tumor Volume (mm3)', kind = 'line')\n",
    "title='time point versus tumor volume for Mouse ID [ '+str(Random_mouse + ' ]')\n",
    "plt.title(title,c=\"r\")\n",
    "plt.xlabel('Time point')\n",
    "plt.ylabel('Tumor Volume (mm3)')\n",
    "plt.show()"
   ]
  },
  {
   "cell_type": "markdown",
   "metadata": {},
   "source": [
    "It is realy intersting! by repeating this cell and changing the Random mouse , The results surprisingly are the same! There is huge reduction in Tumor Volume in the early to mid stages of the study for all , and then the Tumor Volume begins to increase again towards the end of the trial."
   ]
  },
  {
   "cell_type": "code",
   "execution_count": 18,
   "metadata": {},
   "outputs": [
    {
     "data": {
      "image/png": "[encoded data removed]",
      "text/plain": [
       "<Figure size 432x288 with 1 Axes>"
      ]
     },
     "metadata": {
      "needs_background": "light"
     },
     "output_type": "display_data"
    }
   ],
   "source": [
    "# Generate a scatter plot of mouse weight versus average tumor volume for the Capomulin regimen\n",
    "\n",
    "#Colecting and calculating the data of Capomulin treatment \n",
    "Weight_volume_df=Capomulin_Treatment.groupby(\"Mouse ID\").agg({'Weight (g)':'max','Tumor Volume (mm3)':'mean'})\n",
    "\n",
    "#Creating scatter plot of mouse weight versus average tumor volume for the Capomulin regimen\n",
    "x_values=Weight_volume_df['Tumor Volume (mm3)']\n",
    "y_values=Weight_volume_df['Weight (g)']\n",
    "plt.title('Mouse weight Vs Average tumor volume')\n",
    "plt.scatter(x_values,y_values)\n",
    "plt.xlabel('Avarage Tumor Volume (mm3)')\n",
    "plt.ylabel('Mouse Weight (g)')\n",
    "plt.show()\n"
   ]
  },
  {
   "cell_type": "markdown",
   "metadata": {},
   "source": [
    "---> This plot shows the Weight of each subject and the Average Tumor Volume for the Capomulin Treatment have a  strong positive correlation."
   ]
  },
  {
   "cell_type": "markdown",
   "metadata": {},
   "source": [
    "## Correlation and Regression"
   ]
  },
  {
   "cell_type": "code",
   "execution_count": 19,
   "metadata": {},
   "outputs": [
    {
     "name": "stdout",
     "output_type": "stream",
     "text": [
      "\n",
      "The linear equations for mouse weight and average tumor volume is : \u001b[31m y = 0.74x + -10.15 \u001b[0m\n",
      "\n",
      "The correlation coefficient between mouse weight acid and average tumor volume is: \u001b[34m0.84\n",
      "\n"
     ]
    },
    {
     "data": {
      "image/png": "[encoded data removed]",
      "text/plain": [
       "<Figure size 432x288 with 1 Axes>"
      ]
     },
     "metadata": {
      "needs_background": "light"
     },
     "output_type": "display_data"
    }
   ],
   "source": [
    "# Calculate the correlation coefficient and linear regression model \n",
    "# for mouse weight and average tumor volume for the Capomulin regimen\n",
    "\n",
    "x_values=Weight_volume_df['Tumor Volume (mm3)']\n",
    "y_values=Weight_volume_df['Weight (g)']\n",
    "\n",
    "# Calculating the correlation coefficient and linear regression model \n",
    "(slope, intercept, rvalue, pvalue, stderr) = linregress(x_values, y_values)\n",
    "regress_values = x_values * slope + intercept\n",
    "line_eq = \"y = \" + str(round(slope,2)) + \"x + \" + str(round(intercept,2))\n",
    "correlation=st.pearsonr(x_values,y_values)[0] \n",
    "\n",
    "#Creating scatter plot of mouse weight versus average tumor volume for the Capomulin regimen\n",
    "plt.scatter(x_values,y_values)\n",
    "plt.xlabel('Avarage Tumor Volume (mm3)')\n",
    "plt.ylabel('Mouse Weight (g)')\n",
    "plt.plot(x_values,regress_values,\"r-\")\n",
    "plt.title('Mouse weight Vs Average tumor volume')\n",
    "#plt.annotate(line_eq,(16,35),fontsize=15,color=\"red\")\n",
    "print(f\"\\nThe linear equations for mouse weight and average tumor volume is : {Fore.RED} {line_eq} {Style.RESET_ALL}\\n\")\n",
    "print(f\"The correlation coefficient between mouse weight acid and average tumor volume is: {Fore.BLUE}{round(correlation,2)}\\n\")\n",
    "\n",
    "plt.show()\n"
   ]
  },
  {
   "cell_type": "code",
   "execution_count": null,
   "metadata": {},
   "outputs": [],
   "source": []
  }
 ],
 "metadata": {
  "anaconda-cloud": {},
  "kernelspec": {
   "display_name": "Python 3",
   "language": "python",
   "name": "python3"
  },
  "language_info": {
   "codemirror_mode": {
    "name": "ipython",
    "version": 3
   },
   "file_extension": ".py",
   "mimetype": "text/x-python",
   "name": "python",
   "nbconvert_exporter": "python",
   "pygments_lexer": "ipython3",
   "version": "3.7.7"
  }
 },
 "nbformat": 4,
 "nbformat_minor": 4
}
